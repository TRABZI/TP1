{
 "cells": [
  {
   "cell_type": "code",
   "execution_count": 1,
   "metadata": {
    "colab": {
     "base_uri": "https://localhost:8080/"
    },
    "id": "fxF4tX0x_Opc",
    "outputId": "eceb261a-cb7b-45d0-e435-a056f05fadb2"
   },
   "outputs": [
    {
     "name": "stdout",
     "output_type": "stream",
     "text": [
      "--2021-02-20 19:44:38--  https://perso.limsi.fr/neveol/TP_ISD2020.zip\n",
      "Résolution de perso.limsi.fr (perso.limsi.fr)… 129.175.134.198\n",
      "Connexion à perso.limsi.fr (perso.limsi.fr)|129.175.134.198|:443… connecté.\n",
      "requête HTTP transmise, en attente de la réponse… 200 OK\n",
      "Taille : 11397405 (11M) [application/zip]\n",
      "Enregistre : «TP_ISD2020.zip»\n",
      "\n",
      "TP_ISD2020.zip      100%[===================>]  10,87M  1,51MB/s    ds 6,7s    \n",
      "\n",
      "2021-02-20 19:44:45 (1,63 MB/s) - «TP_ISD2020.zip» enregistré [11397405/11397405]\n",
      "\n",
      "Archive:  TP_ISD2020.zip\n",
      "   creating: QUAERO_FrenchMed/\n",
      "   creating: QUAERO_FrenchMed/EMEA/\n",
      "  inflating: QUAERO_FrenchMed/EMEA/EMEAdev_layer1_ID.conll  \n",
      "  inflating: QUAERO_FrenchMed/EMEA/EMEAtest_layer1_ID.conll  \n",
      "  inflating: QUAERO_FrenchMed/EMEA/EMEAtrain_layer1_ID.conll  \n",
      "   creating: QUAERO_FrenchMed/MEDLINE/\n",
      "  inflating: QUAERO_FrenchMed/MEDLINE/MEDLINEdev_layer1_ID.conll  \n",
      "  inflating: QUAERO_FrenchMed/MEDLINE/MEDLINEtest_layer1_ID.conll  \n",
      "  inflating: QUAERO_FrenchMed/MEDLINE/MEDLINEtrain_layer1_ID.conll  \n",
      "  inflating: QUAERO_FrenchMed/MEDLINE_FR_tok.ospl  \n",
      "  inflating: QUAERO_FrenchMed/QUAERO_FrenchMed_traindev.ospl  \n",
      "   creating: QUAERO_FrenchPress/\n",
      "  inflating: QUAERO_FrenchPress/QUAERO_FrenchPress_traindev.ospl  \n",
      "  inflating: QUAERO_FrenchPress/fra4_ID.dev  \n",
      "  inflating: QUAERO_FrenchPress/fra4_ID.test  \n",
      "  inflating: QUAERO_FrenchPress/fra4_ID.train  \n",
      "  inflating: README                  \n"
     ]
    }
   ],
   "source": [
    "!wget https://perso.limsi.fr/neveol/TP_ISD2020.zip\n",
    "!unzip TP_ISD2020.zip"
   ]
  },
  {
   "cell_type": "code",
   "execution_count": 2,
   "metadata": {
    "colab": {
     "base_uri": "https://localhost:8080/"
    },
    "id": "8Yk4CK_M_hCj",
    "outputId": "0213032d-1b6d-4008-bbc7-939d5065266a"
   },
   "outputs": [
    {
     "name": "stdout",
     "output_type": "stream",
     "text": [
      "Collecting gensim\n",
      "  Using cached gensim-3.8.3-cp38-cp38-manylinux1_x86_64.whl (24.2 MB)\n",
      "Collecting smart-open>=1.8.1\n",
      "  Downloading smart_open-4.2.0.tar.gz (119 kB)\n",
      "\u001b[K     |████████████████████████████████| 119 kB 1.7 MB/s eta 0:00:01\n",
      "\u001b[?25hRequirement already satisfied: numpy>=1.11.3 in /home/amine/miniconda3/lib/python3.8/site-packages (from gensim) (1.20.1)\n",
      "Requirement already satisfied: scipy>=0.18.1 in /home/amine/miniconda3/lib/python3.8/site-packages (from gensim) (1.6.1)\n",
      "Requirement already satisfied: six>=1.5.0 in /home/amine/miniconda3/lib/python3.8/site-packages (from gensim) (1.15.0)\n",
      "Building wheels for collected packages: smart-open\n",
      "  Building wheel for smart-open (setup.py) ... \u001b[?25ldone\n",
      "\u001b[?25h  Created wheel for smart-open: filename=smart_open-4.2.0-py3-none-any.whl size=109632 sha256=7af1f2895741868391a3795a469578d57250525b0b6d0c43bd7a0ce1886b691a\n",
      "  Stored in directory: /home/amine/.cache/pip/wheels/24/f6/ea/70a0761bdfaeacff66662751fe71920e25c4c43d97098a3886\n",
      "Successfully built smart-open\n",
      "Installing collected packages: smart-open, gensim\n",
      "Successfully installed gensim-3.8.3 smart-open-4.2.0\n"
     ]
    }
   ],
   "source": [
    "!pip install gensim "
   ]
  },
  {
   "cell_type": "code",
   "execution_count": 32,
   "metadata": {
    "colab": {
     "base_uri": "https://localhost:8080/"
    },
    "id": "NLvkF1n9_nZp",
    "outputId": "529e2e37-a044-4efb-8275-7731695a478c"
   },
   "outputs": [
    {
     "name": "stdout",
     "output_type": "stream",
     "text": [
      "['.config', 'README', 'TP_ISD2020.zip', 'TP_ISD2020.zip.1', 'QUAERO_FrenchMed', 'QUAERO_FrenchPress', 'sample_data']\n",
      "/content/TP_ISD2020.zip.1\n",
      "/content/QUAERO_FrenchMed\n"
     ]
    }
   ],
   "source": [
    "import os\n",
    "from gensim.models import Word2Vec\n",
    "from gensim.models import FastText\n",
    "\n",
    "directory=os.listdir()\n",
    "print(directory)\n",
    "dir_PATH=os.path.abspath(directory[3])\n",
    "print(dir_PATH)\n",
    "dir_PATH=os.path.abspath(directory[4])\n",
    "print(dir_PATH)"
   ]
  },
  {
   "cell_type": "code",
   "execution_count": 43,
   "metadata": {
    "colab": {
     "base_uri": "https://localhost:8080/"
    },
    "id": "p1u7HOib_qEl",
    "outputId": "7e9244b1-6162-4a61-b829-f2f08cdb7617"
   },
   "outputs": [
    {
     "name": "stdout",
     "output_type": "stream",
     "text": [
      "Word2Vec(vocab=9104, size=100, alpha=0.025)\n",
      "Word2Vec(vocab=9104, size=100, alpha=0.025)\n",
      "FastText(vocab=9104, size=100, alpha=0.025)\n",
      "Word2Vec(vocab=39654, size=100, alpha=0.025)\n",
      "Word2Vec(vocab=39654, size=100, alpha=0.025)\n",
      "FastText(vocab=39654, size=100, alpha=0.025)\n"
     ]
    }
   ],
   "source": [
    "from gensim.models.word2vec import LineSentence\n",
    "from gensim.test.utils import datapath\n",
    "\n",
    "sentences_FrenchMed = LineSentence(datapath('/content/QUAERO_FrenchMed/QUAERO_FrenchMed_traindev.ospl'))\n",
    "sentences_FrenchPress = LineSentence(datapath('/content/QUAERO_FrenchPress/QUAERO_FrenchPress_traindev.ospl'))\n",
    "\n",
    "# (1) #French_Med\n",
    "\n",
    "#French_Med\n",
    "FrenchMed_w2v_CBOW = Word2Vec(sentences_FrenchMed, size=100, min_count=1, sg=0)\n",
    "print(FrenchMed_w2v_CBOW)\n",
    "\n",
    "FrenchMed_w2v_SKIPGRAM = Word2Vec(sentences_FrenchMed, size=100, min_count=1, sg=1)\n",
    "print(FrenchMed_w2v_SKIPGRAM)\n",
    "\n",
    "FrenchMed_FastText_CBOW = FastText(sentences_FrenchMed, size=100, min_count=1, sg=0)\n",
    "print(FrenchMed_FastText_SKIPGRAM)\n",
    "\n",
    "# (2) French_Press\n",
    "\n",
    "FrenchPress_w2v_CBOW = Word2Vec(sentences_FrenchPress, size=100, min_count=1, sg=0)\n",
    "print(FrenchPress_w2v_CBOW)\n",
    "\n",
    "FrenchPress_w2v_SKIPGRAM = Word2Vec(sentences_FrenchPress, size=100, min_count=1, sg=1)\n",
    "print(FrenchPress_w2v_SKIPGRAM)\n",
    "\n",
    "FrenchPress_FastText_CBOW = FastText(sentences_FrenchPress, size=100, min_count=1, sg=0)\n",
    "print(FrenchPress_FastText_SKIPGRAM)"
   ]
  },
  {
   "cell_type": "code",
   "execution_count": 44,
   "metadata": {
    "id": "oQmpEKRxMLtt"
   },
   "outputs": [],
   "source": [
    "candidate_word_list=[\"patient\", \"treatment\", \"disease\", \"solution\", \"yellow\"]\n",
    "\n",
    "approaches=[\"w2v CBOW\", \"w2v SKIPGRAM\", \"fast text CBOW\"]\n",
    "\n",
    "corpora=[\"French_Med\",\"French_Press\"]\n",
    "\n"
   ]
  },
  {
   "cell_type": "code",
   "execution_count": 61,
   "metadata": {
    "colab": {
     "base_uri": "https://localhost:8080/"
    },
    "id": "hcOHZa-fg2tm",
    "outputId": "a6ed6680-ee51-4026-8351-61ec716d5ae6"
   },
   "outputs": [
    {
     "name": "stdout",
     "output_type": "stream",
     "text": [
      "\n",
      "--> French_Med :\n",
      "\n",
      "\n",
      " patient :\n",
      "w2v CBOW  :  ['qui', 'à', 'en', 'des', 'après', 'que', ',', '-', 'une', 'du']\n",
      "w2v SKIPGRAM  :  ['Tysabri', 'associé', 'nécessaire', 'cette', 'y', 'ainsi', 'Refludan', 'tous', 'La', 'possible']\n",
      "fast text CBOW  :  ['patiente', 'Patient', 'présentaient', 'patients', 'Patients', 'aient', 'parents', 'ingrédients', 'conscients', 'présentent']\n",
      "\n",
      " treatment :\n",
      "w2v CBOW  :  [None]\n",
      "w2v SKIPGRAM  :  [None]\n",
      "fast text CBOW  :  ['Teichweg', 'CE', 'CESARE', 'beta', 'iléo', 'siehe', 'VIII', 'Eczéma', 'écrasé', 'ACTIVITÉ']\n",
      "\n",
      " disease :\n",
      "w2v CBOW  :  [None]\n",
      "w2v SKIPGRAM  :  [None]\n",
      "fast text CBOW  :  ['croisé', 'refus', 'Bas', 'organizing', 'Darier', 'NÉPHROTIQUE', 'appétit', 'fermé', 'TÉTANIQUE', 'auriez']\n",
      "\n",
      " solution :\n",
      "w2v CBOW  :  ['1', 'mg', ')', 'contient', 'perfusion', 'flacon', 'pour', '2', '/', '(']\n",
      "w2v SKIPGRAM  :  ['jour', '100', 'contient', 'fois', 'kg', '9', 'flacon', '20', '15', '150']\n",
      "fast text CBOW  :  ['Dissolution', 'Evolution', 'Solution', 'evolution', 'évolution', 'dilution', 'Pollution', 'solutions', 'diminution', 'Perfusion']\n",
      "\n",
      " yellow :\n",
      "w2v CBOW  :  [None]\n",
      "w2v SKIPGRAM  :  [None]\n",
      "fast text CBOW  :  ['jambe', 'AFFIRM', '1996', '1984', 'Parmi', 'Lorsqu', '1995', 'bloc', 'gangrèné', 'Stoofstraat']\n",
      "\n",
      "\n",
      "\n",
      "--> French_Press :\n",
      "\n",
      "\n",
      " patient :\n",
      "w2v CBOW  :  ['familial', 'effort', 'porteur', 'Assise', 'passeport', 'évoluer', 'déferlement', 'business', 'geste', 'fou']\n",
      "w2v SKIPGRAM  :  ['aise', 'truc', 'affaiblissement', 'invalider', 'gêné', 'coq', 'circonstance', 'identification', 'complément', 'journalistique']\n",
      "fast text CBOW  :  ['patientent', 'impatient', 'soutient', 'détient', 'trient', 'coefficient', 'prient', 'contient', 'marient', 'charrient']\n",
      "\n",
      " treatment :\n",
      "w2v CBOW  :  [None]\n",
      "w2v SKIPGRAM  :  [None]\n",
      "fast text CBOW  :  ['Tschombé', 'thorium', 'Axoum', 'school', 'Zeitung', 'xénophobe', 'zoum', 'phénol', 'scrap-book', 'Aïchouch']\n",
      "\n",
      " disease :\n",
      "w2v CBOW  :  [None]\n",
      "w2v SKIPGRAM  :  [None]\n",
      "fast text CBOW  :  ['dise', 'diseuse', 'récompense', 'sensibilise', 'dispose', 'traduisez', 'valise', 'diabolise', 'disparaisse', 'graisse']\n",
      "\n",
      " solution :\n",
      "w2v CBOW  :  ['seule', 'garantie', 'règle', 'catastrophe', 'posture', 'dimension', 'portée', 'forme', 'démarche', 'formule']\n",
      "w2v SKIPGRAM  :  ['pacifique', 'règle', 'sérieuse', 'alternative', 'représentation', 'manoeuvre', 'légitimité', 'difficulté', 'morale', 'vraie']\n",
      "fast text CBOW  :  ['résolution', 'révolution', 'caution', 'évolution', 'pollution', 'dissolution', 'dilution', 'potion', 'démarcation', 'sensation']\n",
      "\n",
      " yellow :\n",
      "w2v CBOW  :  [None]\n",
      "w2v SKIPGRAM  :  [None]\n",
      "fast text CBOW  :  ['Damaggio', 'Pinault', 'Ntumba', 'Adjani', 'Sobibor', 'Mimmo', 'Goumba', 'Vladimiro', 'Jovanovich', 'Gault']\n",
      "\n",
      "\n"
     ]
    }
   ],
   "source": [
    "\n",
    "models_French_Med = [FrenchMed_w2v_CBOW, FrenchMed_w2v_SKIPGRAM, FrenchMed_FastText_CBOW ]\n",
    "models_French_Press = [FrenchPress_w2v_CBOW, FrenchPress_w2v_SKIPGRAM , FrenchPress_FastText_CBOW]\n",
    "\n",
    "models=[]\n",
    "models.append(models_French_Med)\n",
    "models.append(models_French_Press)\n",
    "\n",
    "m=0\n",
    "for k in corpora:\n",
    "  print(\"\\n-->\",k,\":\\n\")\n",
    "  for i in candidate_word_list:\n",
    "    a=0\n",
    "    print(\"\\n\",i,\":\")\n",
    "    for j in models[m]:\n",
    "      try:\n",
    "        list_embeddings = [embeddings[0] for embeddings in j.wv.most_similar(i)]\n",
    "        print(approaches[a],\" : \",list_embeddings)\n",
    "      except:\n",
    "        list_embeddings=[]\n",
    "        print(approaches[a],\" : \",\"[None]\")\n",
    "      a+=1\n",
    "  m+=1\n",
    "  print(\"\\n\")"
   ]
  },
  {
   "cell_type": "code",
   "execution_count": 77,
   "metadata": {
    "colab": {
     "base_uri": "https://localhost:8080/"
    },
    "id": "FtZa1GJ5aqJ2",
    "outputId": "698ec1f2-e8a3-489b-d83d-5581b6ce9537"
   },
   "outputs": [
    {
     "name": "stdout",
     "output_type": "stream",
     "text": [
      "['solution', 'patient']\n"
     ]
    }
   ],
   "source": [
    "# Looking for availability of candidate_word_list in the datasets\n",
    "search=[]\n",
    "number_of_sets=2\n",
    "for _ in range(number_of_sets):\n",
    "\n",
    "  for j in models_French_Med:\n",
    "    for i in j.wv.vocab:\n",
    "      if i in candidate_word_list:\n",
    "        if i not in search:\n",
    "          search.append(i)\n",
    "\n",
    "  for j in models_French_Press:\n",
    "    for i in j.wv.vocab:\n",
    "      if i in candidate_word_list:\n",
    "        if i not in search:\n",
    "          search.append(i)\n",
    "          \n",
    "print(search)\n"
   ]
  },
  {
   "cell_type": "code",
   "execution_count": null,
   "metadata": {
    "id": "BJCmG9UpGUKZ"
   },
   "outputs": [],
   "source": []
  }
 ],
 "metadata": {
  "colab": {
   "collapsed_sections": [],
   "name": "Untitled0.ipynb",
   "provenance": []
  },
  "kernelspec": {
   "display_name": "Python 3",
   "language": "python",
   "name": "python3"
  },
  "language_info": {
   "codemirror_mode": {
    "name": "ipython",
    "version": 3
   },
   "file_extension": ".py",
   "mimetype": "text/x-python",
   "name": "python",
   "nbconvert_exporter": "python",
   "pygments_lexer": "ipython3",
   "version": "3.8.5"
  }
 },
 "nbformat": 4,
 "nbformat_minor": 1
}
