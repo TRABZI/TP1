{
 "cells": [
  {
   "cell_type": "markdown",
   "metadata": {},
   "source": [
    "# Lab #2 & #1\n",
    "\n",
    "TRABZI Mohammed Amine\n",
    "\n",
    "Master 2 Data Sciene \n",
    "\n",
    "\n"
   ]
  },
  {
   "cell_type": "markdown",
   "metadata": {
    "colab": {
     "base_uri": "https://localhost:8080/"
    },
    "id": "fxF4tX0x_Opc",
    "outputId": "eceb261a-cb7b-45d0-e435-a056f05fadb2"
   },
   "source": [
    "# Downloads & Installations"
   ]
  },
  {
   "cell_type": "code",
   "execution_count": 21,
   "metadata": {},
   "outputs": [
    {
     "name": "stdout",
     "output_type": "stream",
     "text": [
      "Requirement already satisfied: gensim in /home/amine/miniconda3/lib/python3.8/site-packages (3.8.3)\n",
      "Requirement already satisfied: scipy>=0.18.1 in /home/amine/miniconda3/lib/python3.8/site-packages (from gensim) (1.6.1)\n",
      "Requirement already satisfied: six>=1.5.0 in /home/amine/miniconda3/lib/python3.8/site-packages (from gensim) (1.15.0)\n",
      "Requirement already satisfied: smart-open>=1.8.1 in /home/amine/miniconda3/lib/python3.8/site-packages (from gensim) (3.0.0)\n",
      "Requirement already satisfied: numpy>=1.11.3 in /home/amine/miniconda3/lib/python3.8/site-packages (from gensim) (1.20.1)\n",
      "Requirement already satisfied: requests in /home/amine/miniconda3/lib/python3.8/site-packages (from smart-open>=1.8.1->gensim) (2.24.0)\n",
      "Requirement already satisfied: chardet<4,>=3.0.2 in /home/amine/miniconda3/lib/python3.8/site-packages (from requests->smart-open>=1.8.1->gensim) (3.0.4)\n",
      "Requirement already satisfied: certifi>=2017.4.17 in /home/amine/miniconda3/lib/python3.8/site-packages (from requests->smart-open>=1.8.1->gensim) (2020.12.5)\n",
      "Requirement already satisfied: urllib3!=1.25.0,!=1.25.1,<1.26,>=1.21.1 in /home/amine/miniconda3/lib/python3.8/site-packages (from requests->smart-open>=1.8.1->gensim) (1.25.11)\n",
      "Requirement already satisfied: idna<3,>=2.5 in /home/amine/miniconda3/lib/python3.8/site-packages (from requests->smart-open>=1.8.1->gensim) (2.10)\n",
      "Requirement already satisfied: nltk in /home/amine/miniconda3/lib/python3.8/site-packages (3.5)\n",
      "Requirement already satisfied: click in /home/amine/miniconda3/lib/python3.8/site-packages (from nltk) (7.1.2)\n",
      "Requirement already satisfied: regex in /home/amine/miniconda3/lib/python3.8/site-packages (from nltk) (2020.11.13)\n",
      "Requirement already satisfied: joblib in /home/amine/miniconda3/lib/python3.8/site-packages (from nltk) (1.0.1)\n",
      "Requirement already satisfied: tqdm in /home/amine/miniconda3/lib/python3.8/site-packages (from nltk) (4.51.0)\n",
      "Collecting en-core-web-sm==3.0.0\n",
      "  Downloading https://github.com/explosion/spacy-models/releases/download/en_core_web_sm-3.0.0/en_core_web_sm-3.0.0-py3-none-any.whl (13.7 MB)\n",
      "\u001b[K     |████████████████████████████████| 13.7 MB 875 kB/s eta 0:00:01     |███████████████████████████████▌| 13.5 MB 875 kB/s eta 0:00:01\n",
      "\u001b[?25hRequirement already satisfied: spacy<3.1.0,>=3.0.0 in /home/amine/miniconda3/lib/python3.8/site-packages (from en-core-web-sm==3.0.0) (3.0.3)\n",
      "Requirement already satisfied: cymem<2.1.0,>=2.0.2 in /home/amine/miniconda3/lib/python3.8/site-packages (from spacy<3.1.0,>=3.0.0->en-core-web-sm==3.0.0) (2.0.5)\n",
      "Requirement already satisfied: preshed<3.1.0,>=3.0.2 in /home/amine/miniconda3/lib/python3.8/site-packages (from spacy<3.1.0,>=3.0.0->en-core-web-sm==3.0.0) (3.0.5)\n",
      "Requirement already satisfied: thinc<8.1.0,>=8.0.0 in /home/amine/miniconda3/lib/python3.8/site-packages (from spacy<3.1.0,>=3.0.0->en-core-web-sm==3.0.0) (8.0.1)\n",
      "Requirement already satisfied: blis<0.8.0,>=0.4.0 in /home/amine/miniconda3/lib/python3.8/site-packages (from spacy<3.1.0,>=3.0.0->en-core-web-sm==3.0.0) (0.7.4)\n",
      "Requirement already satisfied: pathy in /home/amine/miniconda3/lib/python3.8/site-packages (from spacy<3.1.0,>=3.0.0->en-core-web-sm==3.0.0) (0.4.0)\n",
      "Requirement already satisfied: wasabi<1.1.0,>=0.8.1 in /home/amine/miniconda3/lib/python3.8/site-packages (from spacy<3.1.0,>=3.0.0->en-core-web-sm==3.0.0) (0.8.2)\n",
      "Requirement already satisfied: setuptools in /home/amine/miniconda3/lib/python3.8/site-packages (from spacy<3.1.0,>=3.0.0->en-core-web-sm==3.0.0) (50.3.1.post20201107)\n",
      "Requirement already satisfied: tqdm<5.0.0,>=4.38.0 in /home/amine/miniconda3/lib/python3.8/site-packages (from spacy<3.1.0,>=3.0.0->en-core-web-sm==3.0.0) (4.51.0)\n",
      "Requirement already satisfied: srsly<3.0.0,>=2.4.0 in /home/amine/miniconda3/lib/python3.8/site-packages (from spacy<3.1.0,>=3.0.0->en-core-web-sm==3.0.0) (2.4.0)\n",
      "Requirement already satisfied: catalogue<2.1.0,>=2.0.1 in /home/amine/miniconda3/lib/python3.8/site-packages (from spacy<3.1.0,>=3.0.0->en-core-web-sm==3.0.0) (2.0.1)\n",
      "Requirement already satisfied: spacy-legacy<3.1.0,>=3.0.0 in /home/amine/miniconda3/lib/python3.8/site-packages (from spacy<3.1.0,>=3.0.0->en-core-web-sm==3.0.0) (3.0.1)\n",
      "Requirement already satisfied: requests<3.0.0,>=2.13.0 in /home/amine/miniconda3/lib/python3.8/site-packages (from spacy<3.1.0,>=3.0.0->en-core-web-sm==3.0.0) (2.24.0)\n",
      "Requirement already satisfied: numpy>=1.15.0 in /home/amine/miniconda3/lib/python3.8/site-packages (from spacy<3.1.0,>=3.0.0->en-core-web-sm==3.0.0) (1.20.1)\n",
      "Requirement already satisfied: jinja2 in /home/amine/.local/lib/python3.8/site-packages (from spacy<3.1.0,>=3.0.0->en-core-web-sm==3.0.0) (2.11.2)\n",
      "Requirement already satisfied: pydantic<1.8.0,>=1.7.1 in /home/amine/miniconda3/lib/python3.8/site-packages (from spacy<3.1.0,>=3.0.0->en-core-web-sm==3.0.0) (1.7.3)\n",
      "Requirement already satisfied: murmurhash<1.1.0,>=0.28.0 in /home/amine/miniconda3/lib/python3.8/site-packages (from spacy<3.1.0,>=3.0.0->en-core-web-sm==3.0.0) (1.0.5)\n",
      "Requirement already satisfied: typer<0.4.0,>=0.3.0 in /home/amine/miniconda3/lib/python3.8/site-packages (from spacy<3.1.0,>=3.0.0->en-core-web-sm==3.0.0) (0.3.2)\n",
      "Requirement already satisfied: packaging>=20.0 in /home/amine/.local/lib/python3.8/site-packages (from spacy<3.1.0,>=3.0.0->en-core-web-sm==3.0.0) (20.4)\n",
      "Requirement already satisfied: smart-open<4.0.0,>=2.2.0 in /home/amine/miniconda3/lib/python3.8/site-packages (from pathy->spacy<3.1.0,>=3.0.0->en-core-web-sm==3.0.0) (3.0.0)\n",
      "Requirement already satisfied: idna<3,>=2.5 in /home/amine/miniconda3/lib/python3.8/site-packages (from requests<3.0.0,>=2.13.0->spacy<3.1.0,>=3.0.0->en-core-web-sm==3.0.0) (2.10)\n",
      "Requirement already satisfied: chardet<4,>=3.0.2 in /home/amine/miniconda3/lib/python3.8/site-packages (from requests<3.0.0,>=2.13.0->spacy<3.1.0,>=3.0.0->en-core-web-sm==3.0.0) (3.0.4)\n",
      "Requirement already satisfied: certifi>=2017.4.17 in /home/amine/miniconda3/lib/python3.8/site-packages (from requests<3.0.0,>=2.13.0->spacy<3.1.0,>=3.0.0->en-core-web-sm==3.0.0) (2020.12.5)\n",
      "Requirement already satisfied: urllib3!=1.25.0,!=1.25.1,<1.26,>=1.21.1 in /home/amine/miniconda3/lib/python3.8/site-packages (from requests<3.0.0,>=2.13.0->spacy<3.1.0,>=3.0.0->en-core-web-sm==3.0.0) (1.25.11)\n",
      "Requirement already satisfied: MarkupSafe>=0.23 in /home/amine/miniconda3/lib/python3.8/site-packages (from jinja2->spacy<3.1.0,>=3.0.0->en-core-web-sm==3.0.0) (1.1.1)\n",
      "Requirement already satisfied: click<7.2.0,>=7.1.1 in /home/amine/miniconda3/lib/python3.8/site-packages (from typer<0.4.0,>=0.3.0->spacy<3.1.0,>=3.0.0->en-core-web-sm==3.0.0) (7.1.2)\n",
      "Requirement already satisfied: six in /home/amine/miniconda3/lib/python3.8/site-packages (from packaging>=20.0->spacy<3.1.0,>=3.0.0->en-core-web-sm==3.0.0) (1.15.0)\n",
      "Requirement already satisfied: pyparsing>=2.0.2 in /home/amine/miniconda3/lib/python3.8/site-packages (from packaging>=20.0->spacy<3.1.0,>=3.0.0->en-core-web-sm==3.0.0) (2.4.7)\n",
      "Installing collected packages: en-core-web-sm\n",
      "Successfully installed en-core-web-sm-3.0.0\n",
      "\u001b[38;5;2m✔ Download and installation successful\u001b[0m\n",
      "You can now load the package via spacy.load('en_core_web_sm')\n",
      "Requirement already satisfied: spacy in /home/amine/miniconda3/lib/python3.8/site-packages (3.0.3)\n",
      "Requirement already satisfied: requests<3.0.0,>=2.13.0 in /home/amine/miniconda3/lib/python3.8/site-packages (from spacy) (2.24.0)\n",
      "Requirement already satisfied: numpy>=1.15.0 in /home/amine/miniconda3/lib/python3.8/site-packages (from spacy) (1.20.1)\n",
      "Requirement already satisfied: catalogue<2.1.0,>=2.0.1 in /home/amine/miniconda3/lib/python3.8/site-packages (from spacy) (2.0.1)\n",
      "Requirement already satisfied: pydantic<1.8.0,>=1.7.1 in /home/amine/miniconda3/lib/python3.8/site-packages (from spacy) (1.7.3)\n",
      "Requirement already satisfied: jinja2 in /home/amine/.local/lib/python3.8/site-packages (from spacy) (2.11.2)\n",
      "Requirement already satisfied: cymem<2.1.0,>=2.0.2 in /home/amine/miniconda3/lib/python3.8/site-packages (from spacy) (2.0.5)\n",
      "Requirement already satisfied: spacy-legacy<3.1.0,>=3.0.0 in /home/amine/miniconda3/lib/python3.8/site-packages (from spacy) (3.0.1)\n",
      "Requirement already satisfied: blis<0.8.0,>=0.4.0 in /home/amine/miniconda3/lib/python3.8/site-packages (from spacy) (0.7.4)\n",
      "Requirement already satisfied: srsly<3.0.0,>=2.4.0 in /home/amine/miniconda3/lib/python3.8/site-packages (from spacy) (2.4.0)\n",
      "Requirement already satisfied: typer<0.4.0,>=0.3.0 in /home/amine/miniconda3/lib/python3.8/site-packages (from spacy) (0.3.2)\n"
     ]
    },
    {
     "name": "stdout",
     "output_type": "stream",
     "text": [
      "Requirement already satisfied: thinc<8.1.0,>=8.0.0 in /home/amine/miniconda3/lib/python3.8/site-packages (from spacy) (8.0.1)\n",
      "Requirement already satisfied: preshed<3.1.0,>=3.0.2 in /home/amine/miniconda3/lib/python3.8/site-packages (from spacy) (3.0.5)\n",
      "Requirement already satisfied: murmurhash<1.1.0,>=0.28.0 in /home/amine/miniconda3/lib/python3.8/site-packages (from spacy) (1.0.5)\n",
      "Requirement already satisfied: pathy in /home/amine/miniconda3/lib/python3.8/site-packages (from spacy) (0.4.0)\n",
      "Requirement already satisfied: packaging>=20.0 in /home/amine/.local/lib/python3.8/site-packages (from spacy) (20.4)\n",
      "Requirement already satisfied: setuptools in /home/amine/miniconda3/lib/python3.8/site-packages (from spacy) (50.3.1.post20201107)\n",
      "Requirement already satisfied: wasabi<1.1.0,>=0.8.1 in /home/amine/miniconda3/lib/python3.8/site-packages (from spacy) (0.8.2)\n",
      "Requirement already satisfied: tqdm<5.0.0,>=4.38.0 in /home/amine/miniconda3/lib/python3.8/site-packages (from spacy) (4.51.0)\n",
      "Requirement already satisfied: chardet<4,>=3.0.2 in /home/amine/miniconda3/lib/python3.8/site-packages (from requests<3.0.0,>=2.13.0->spacy) (3.0.4)\n",
      "Requirement already satisfied: certifi>=2017.4.17 in /home/amine/miniconda3/lib/python3.8/site-packages (from requests<3.0.0,>=2.13.0->spacy) (2020.12.5)\n",
      "Requirement already satisfied: idna<3,>=2.5 in /home/amine/miniconda3/lib/python3.8/site-packages (from requests<3.0.0,>=2.13.0->spacy) (2.10)\n",
      "Requirement already satisfied: urllib3!=1.25.0,!=1.25.1,<1.26,>=1.21.1 in /home/amine/miniconda3/lib/python3.8/site-packages (from requests<3.0.0,>=2.13.0->spacy) (1.25.11)\n",
      "Requirement already satisfied: MarkupSafe>=0.23 in /home/amine/miniconda3/lib/python3.8/site-packages (from jinja2->spacy) (1.1.1)\n",
      "Requirement already satisfied: click<7.2.0,>=7.1.1 in /home/amine/miniconda3/lib/python3.8/site-packages (from typer<0.4.0,>=0.3.0->spacy) (7.1.2)\n",
      "Requirement already satisfied: smart-open<4.0.0,>=2.2.0 in /home/amine/miniconda3/lib/python3.8/site-packages (from pathy->spacy) (3.0.0)\n",
      "Requirement already satisfied: six in /home/amine/miniconda3/lib/python3.8/site-packages (from packaging>=20.0->spacy) (1.15.0)\n",
      "Requirement already satisfied: pyparsing>=2.0.2 in /home/amine/miniconda3/lib/python3.8/site-packages (from packaging>=20.0->spacy) (2.4.7)\n"
     ]
    }
   ],
   "source": [
    "!pip install gensim \n",
    "!pip install nltk\n",
    "!python -m spacy download en_core_web_sm\n",
    "!pip install spacy "
   ]
  },
  {
   "cell_type": "code",
   "execution_count": 1,
   "metadata": {},
   "outputs": [],
   "source": [
    "import os \n",
    "if \"TP_ISD2020.zip\" not in os.listdir():\n",
    "    !wget https://perso.limsi.fr/neveol/TP_ISD2020.zip\n",
    "    !unzip TP_ISD2020.zip"
   ]
  },
  {
   "cell_type": "code",
   "execution_count": 2,
   "metadata": {},
   "outputs": [
    {
     "name": "stderr",
     "output_type": "stream",
     "text": [
      "[nltk_data] Downloading package punkt to /home/amine/nltk_data...\n",
      "[nltk_data]   Package punkt is already up-to-date!\n",
      "[nltk_data] Downloading package averaged_perceptron_tagger to\n",
      "[nltk_data]     /home/amine/nltk_data...\n",
      "[nltk_data]   Package averaged_perceptron_tagger is already up-to-\n",
      "[nltk_data]       date!\n",
      "[nltk_data] Downloading package maxent_ne_chunker to\n",
      "[nltk_data]     /home/amine/nltk_data...\n",
      "[nltk_data]   Package maxent_ne_chunker is already up-to-date!\n",
      "[nltk_data] Downloading package words to /home/amine/nltk_data...\n",
      "[nltk_data]   Package words is already up-to-date!\n"
     ]
    },
    {
     "data": {
      "text/plain": [
       "True"
      ]
     },
     "execution_count": 2,
     "metadata": {},
     "output_type": "execute_result"
    }
   ],
   "source": [
    "import nltk\n",
    "import ssl\n",
    "import gensim\n",
    "import nltk\n",
    "import os\n",
    "import pandas as pd\n",
    "import spacy\n",
    "from gensim.models import Word2Vec\n",
    "from gensim.models import FastText\n",
    "import spacy\n",
    "nltk.download(\"punkt\")\n",
    "nltk.download(\"averaged_perceptron_tagger\")\n",
    "nltk.download(\"maxent_ne_chunker\")\n",
    "nltk.download(\"words\")"
   ]
  },
  {
   "cell_type": "markdown",
   "metadata": {},
   "source": [
    "# Print paths"
   ]
  },
  {
   "cell_type": "code",
   "execution_count": 3,
   "metadata": {
    "colab": {
     "base_uri": "https://localhost:8080/"
    },
    "id": "NLvkF1n9_nZp",
    "outputId": "529e2e37-a044-4efb-8275-7731695a478c"
   },
   "outputs": [
    {
     "name": "stdout",
     "output_type": "stream",
     "text": [
      "['TP_ISD2020.zip.1', 'code.ipynb', 'TRABZI_code_TP1.ipynb', 'TP_ISD2020.zip', 'QUAERO', '.ipynb_checkpoints', 'README'] \n",
      "\n",
      "code.ipynb ..... $PATH =  /home/amine/TP1/TRABZI_Med_Amine_M2DS_TP1_TextMining/code.ipynb \n",
      "\n",
      "QUAERO ..... $PATH =  /home/amine/TP1/TRABZI_Med_Amine_M2DS_TP1_TextMining/QUAERO\n"
     ]
    }
   ],
   "source": [
    "directory=os.listdir()\n",
    "print(directory,\"\\n\")\n",
    "dir_PATH=os.path.abspath(directory[1])\n",
    "print(directory[1],\"..... $PATH = \",dir_PATH,\"\\n\")\n",
    "dir_PATH=os.path.abspath(directory[4])\n",
    "print(directory[4],\"..... $PATH = \",dir_PATH)"
   ]
  },
  {
   "cell_type": "markdown",
   "metadata": {},
   "source": [
    "# Defined functions"
   ]
  },
  {
   "cell_type": "code",
   "execution_count": 4,
   "metadata": {},
   "outputs": [],
   "source": [
    "def filter_text(sentence):\n",
    "    return [word.lower() for word in nltk.word_tokenize(sentence) if word.isalnum()]\n",
    "\n",
    "def tokenize_text(text):\n",
    "    return [filter_text(sentence) for sentence in nltk.sent_tokenize(text)]"
   ]
  },
  {
   "cell_type": "markdown",
   "metadata": {},
   "source": [
    "# Text Processing"
   ]
  },
  {
   "cell_type": "code",
   "execution_count": 5,
   "metadata": {},
   "outputs": [
    {
     "name": "stdout",
     "output_type": "stream",
     "text": [
      "QUAERO_FrenchMed_traindev.ospl\n",
      "QUAERO_FrenchPress_traindev.ospl\n",
      "\n",
      "number of sentences in sentences_FrenchPress: 43541\n",
      "number of tokens in sentences_FrenchPress: 1113538 \n",
      "\n",
      "number of sentences in sentences_FrenchMed: 3000\n",
      "number of tokens in sentences_FrenchMed: 43067\n"
     ]
    }
   ],
   "source": [
    "sentences_FrenchPress=[]\n",
    "sentences_FrenchMed=[]\n",
    "\n",
    "text_=[\"QUAERO_FrenchMed_traindev.ospl\",\"QUAERO_FrenchPress_traindev.ospl\"]\n",
    "for root,directory,files in os.walk(\"QUAERO\"):\n",
    "    for filename in files:\n",
    "        if filename in text_[1]:\n",
    "            print(filename)\n",
    "            with open(os.path.join(root,filename),'r') as rf:\n",
    "                text=rf.read()\n",
    "                sentences_FrenchPress.extend(tokenize_text(text))\n",
    "                num_words_FrenchPress=filter_text(text)#nltk.word_tokenize(text)\n",
    "        elif filename in text_[0]:\n",
    "            print(filename)\n",
    "            with open(os.path.join(root,filename),'r') as rf:\n",
    "                text=rf.read()\n",
    "                sentences_FrenchMed.extend(tokenize_text(text))\n",
    "                num_words_FrenchMed=filter_text(text) #nltk.word_tokenize(text)\n",
    "                \n",
    "print(\"\\nnumber of sentences in sentences_FrenchPress:\",len(sentences_FrenchPress))\n",
    "print(\"number of tokens in sentences_FrenchPress:\",len(num_words_FrenchPress),\"\\n\")\n",
    "\n",
    "print(\"number of sentences in sentences_FrenchMed:\",len(sentences_FrenchMed))\n",
    "print(\"number of tokens in sentences_FrenchMed:\",len(num_words_FrenchMed))"
   ]
  },
  {
   "cell_type": "markdown",
   "metadata": {},
   "source": [
    "# Named  Entity Recognition , using spacy"
   ]
  },
  {
   "cell_type": "code",
   "execution_count": 6,
   "metadata": {},
   "outputs": [],
   "source": [
    "nlp = spacy.load(\"en_core_web_sm\")\n",
    "nlp_txt = nlp(text[0:500000])"
   ]
  },
  {
   "cell_type": "code",
   "execution_count": 7,
   "metadata": {},
   "outputs": [
    {
     "data": {
      "text/html": [
       "<div>\n",
       "<style scoped>\n",
       "    .dataframe tbody tr th:only-of-type {\n",
       "        vertical-align: middle;\n",
       "    }\n",
       "\n",
       "    .dataframe tbody tr th {\n",
       "        vertical-align: top;\n",
       "    }\n",
       "\n",
       "    .dataframe thead th {\n",
       "        text-align: right;\n",
       "    }\n",
       "</style>\n",
       "<table border=\"1\" class=\"dataframe\">\n",
       "  <thead>\n",
       "    <tr style=\"text-align: right;\">\n",
       "      <th></th>\n",
       "      <th>Entities</th>\n",
       "      <th>Labels</th>\n",
       "    </tr>\n",
       "  </thead>\n",
       "  <tbody>\n",
       "    <tr>\n",
       "      <th>0</th>\n",
       "      <td>(Patricia, Martin)</td>\n",
       "      <td>PERSON</td>\n",
       "    </tr>\n",
       "    <tr>\n",
       "      <th>1</th>\n",
       "      <td>(Nicolas, Stoufflet)</td>\n",
       "      <td>PERSON</td>\n",
       "    </tr>\n",
       "    <tr>\n",
       "      <th>2</th>\n",
       "      <td>(France, Inter)</td>\n",
       "      <td>PERSON</td>\n",
       "    </tr>\n",
       "    <tr>\n",
       "      <th>3</th>\n",
       "      <td>(7)</td>\n",
       "      <td>CARDINAL</td>\n",
       "    </tr>\n",
       "    <tr>\n",
       "      <th>4</th>\n",
       "      <td>(Simon, Tivolle)</td>\n",
       "      <td>PERSON</td>\n",
       "    </tr>\n",
       "    <tr>\n",
       "      <th>...</th>\n",
       "      <td>...</td>\n",
       "      <td>...</td>\n",
       "    </tr>\n",
       "    <tr>\n",
       "      <th>3809</th>\n",
       "      <td>(Jean, -, Marie, Le, Pen)</td>\n",
       "      <td>PERSON</td>\n",
       "    </tr>\n",
       "    <tr>\n",
       "      <th>3810</th>\n",
       "      <td>(Bruno, Mégret)</td>\n",
       "      <td>PERSON</td>\n",
       "    </tr>\n",
       "    <tr>\n",
       "      <th>3811</th>\n",
       "      <td>(Front, National)</td>\n",
       "      <td>ORG</td>\n",
       "    </tr>\n",
       "    <tr>\n",
       "      <th>3812</th>\n",
       "      <td>(Charles, Millon)</td>\n",
       "      <td>PERSON</td>\n",
       "    </tr>\n",
       "    <tr>\n",
       "      <th>3813</th>\n",
       "      <td>(Rhône, /, Alpes)</td>\n",
       "      <td>ORG</td>\n",
       "    </tr>\n",
       "  </tbody>\n",
       "</table>\n",
       "<p>3814 rows × 2 columns</p>\n",
       "</div>"
      ],
      "text/plain": [
       "                       Entities    Labels\n",
       "0            (Patricia, Martin)    PERSON\n",
       "1          (Nicolas, Stoufflet)    PERSON\n",
       "2               (France, Inter)    PERSON\n",
       "3                           (7)  CARDINAL\n",
       "4              (Simon, Tivolle)    PERSON\n",
       "...                         ...       ...\n",
       "3809  (Jean, -, Marie, Le, Pen)    PERSON\n",
       "3810            (Bruno, Mégret)    PERSON\n",
       "3811          (Front, National)       ORG\n",
       "3812          (Charles, Millon)    PERSON\n",
       "3813          (Rhône, /, Alpes)       ORG\n",
       "\n",
       "[3814 rows x 2 columns]"
      ]
     },
     "execution_count": 7,
     "metadata": {},
     "output_type": "execute_result"
    }
   ],
   "source": [
    "labels_list = []\n",
    "entities_list = []\n",
    "\n",
    "for ent in nlp_txt.ents:\n",
    "    labels_list.append(ent.label_)\n",
    "    entities_list.append(ent)\n",
    "df = pd.DataFrame({'Entities':entities_list,'Labels':labels_list})\n",
    "df"
   ]
  },
  {
   "cell_type": "markdown",
   "metadata": {},
   "source": [
    "# Lab #1 : word embeddings"
   ]
  },
  {
   "cell_type": "code",
   "execution_count": null,
   "metadata": {
    "colab": {
     "base_uri": "https://localhost:8080/"
    },
    "id": "p1u7HOib_qEl",
    "outputId": "7e9244b1-6162-4a61-b829-f2f08cdb7617",
    "scrolled": true
   },
   "outputs": [
    {
     "name": "stdout",
     "output_type": "stream",
     "text": [
      "Word2Vec(vocab=8055, size=100, alpha=0.025)\n",
      "Word2Vec(vocab=8055, size=100, alpha=0.025)\n",
      "FastText(vocab=8055, size=100, alpha=0.025)\n",
      "Word2Vec(vocab=36601, size=100, alpha=0.025)\n",
      "Word2Vec(vocab=36601, size=100, alpha=0.025)\n"
     ]
    }
   ],
   "source": [
    "#sentences_FrenchMed = LineSentence(datapath('/home/amine/tp2/QUAERO_FrenchMed/QUAERO_FrenchMed_traindev.ospl'))\n",
    "#sentences_FrenchPress = LineSentence(datapath('/home/amine/tp2/QUAERO_FrenchPress/QUAERO_FrenchPress_traindev.ospl'))\n",
    "\n",
    "# (1) #French_Med\n",
    "\n",
    "#French_Med\n",
    "FrenchMed_w2v_CBOW = Word2Vec(sentences_FrenchMed, size=100, min_count=1, sg=0)\n",
    "print(FrenchMed_w2v_CBOW)\n",
    "\n",
    "FrenchMed_w2v_SKIPGRAM = Word2Vec(sentences_FrenchMed, size=100, min_count=1, sg=1)\n",
    "print(FrenchMed_w2v_SKIPGRAM)\n",
    "\n",
    "FrenchMed_FastText_CBOW = FastText(sentences_FrenchMed, size=100, min_count=1, sg=0)\n",
    "print(FrenchMed_FastText_CBOW)\n",
    "\n",
    "# (2) French_Press\n",
    "\n",
    "FrenchPress_w2v_CBOW = Word2Vec(sentences_FrenchPress, size=100, min_count=1, sg=0)\n",
    "print(FrenchPress_w2v_CBOW)\n",
    "\n",
    "FrenchPress_w2v_SKIPGRAM = Word2Vec(sentences_FrenchPress, size=100, min_count=1, sg=1)\n",
    "print(FrenchPress_w2v_SKIPGRAM)\n",
    "\n",
    "FrenchPress_FastText_CBOW = FastText(sentences_FrenchPress, size=100, min_count=1, sg=0)\n",
    "print(FrenchPress_FastText_CBOW)"
   ]
  },
  {
   "cell_type": "markdown",
   "metadata": {},
   "source": [
    "# Saving trained Models"
   ]
  },
  {
   "cell_type": "code",
   "execution_count": null,
   "metadata": {},
   "outputs": [],
   "source": [
    "#FrenchMed_w2v_CBOW.wv.save_word2vec_format('FrenchMed_w2v_CBOW.vec.gz', binary=False)\n",
    "\n",
    "FrenchMed_w2v_CBOW.wv.save_word2vec_format('FrenchMed_w2v_CBOW.vec.gz', binary=False)\n",
    "FrenchMed_w2v_SKIPGRAM.wv.save_word2vec_format('FrenchMed_w2v_SKIPGRAM.vec.gz', binary=False)\n",
    "FrenchMed_FastText_CBOW.wv.save_word2vec_format('FrenchMed_FastText_CBOW.vec.gz', binary=False)\n",
    "FrenchPress_w2v_CBOW.wv.save_word2vec_format('FrenchPress_w2v_CBOW.vec.gz', binary=False)\n",
    "FrenchPress_w2v_SKIPGRAM.wv.save_word2vec_format('FrenchPress_w2v_SKIPGRAM.vec.gz', binary=False)\n",
    "FrenchPress_FastText_CBOW.wv.save_word2vec_format('FrenchPress_FastText_CBOW.vec.gz', binary=False)\n",
    "\n",
    "\n",
    "'''FrenchMed_w2v_CBOW.save('FrenchMed_w2v_CBOW.vec.gz')\n",
    "FrenchMed_w2v_SKIPGRAM.save('FrenchMed_w2v_SKIPGRAM.vec.gz')\n",
    "#FrenchMed_FastText_CBOW.save('FrenchMed_FastText_CBOW.p')\n",
    "FrenchPress_w2v_CBOW.save('FrenchPress_w2v_CBOW.vec.gz')\n",
    "FrenchPress_w2v_SKIPGRAM.save('FrenchPress_w2v_SKIPGRAM.vec.gz')\n",
    "#FrenchPress_FastText_CBOW.save('FrenchPress_FastText_CBOW.p')'''\n"
   ]
  },
  {
   "cell_type": "markdown",
   "metadata": {},
   "source": [
    "# Test embedding models"
   ]
  },
  {
   "cell_type": "code",
   "execution_count": null,
   "metadata": {
    "colab": {
     "base_uri": "https://localhost:8080/"
    },
    "id": "hcOHZa-fg2tm",
    "outputId": "a6ed6680-ee51-4026-8351-61ec716d5ae6"
   },
   "outputs": [],
   "source": [
    "candidate_word_list=[\"patient\", \"treatment\", \"disease\", \"solution\", \"yellow\"]\n",
    "\n",
    "approaches=[\"w2v CBOW\", \"w2v SKIPGRAM\", \"fast text CBOW\"]\n",
    "\n",
    "corpora=[\"French_Med\",\"French_Press\"]\n",
    "\n",
    "\n",
    "models_French_Med = [FrenchMed_w2v_CBOW, FrenchMed_w2v_SKIPGRAM, FrenchMed_FastText_CBOW ]\n",
    "models_French_Press = [FrenchPress_w2v_CBOW, FrenchPress_w2v_SKIPGRAM , FrenchPress_FastText_CBOW]\n",
    "\n",
    "models=[]\n",
    "models.append(models_French_Med)\n",
    "models.append(models_French_Press)\n",
    "\n",
    "m=0\n",
    "for k in corpora:\n",
    "    print(\"\\n-->\",k,\":\\n\")\n",
    "    for i in candidate_word_list:\n",
    "        a=0\n",
    "        print(\"\\n\",i,\":\")\n",
    "        for j in models[m]:\n",
    "            try:\n",
    "                list_embeddings = [embeddings[0] for embeddings in j.wv.most_similar(i)]\n",
    "                print(approaches[a],\" : \",list_embeddings)\n",
    "            except:\n",
    "                list_embeddings=[]\n",
    "                print(approaches[a],\" : \",\"[None]\")\n",
    "            a+=1\n",
    "    m+=1\n",
    "    print(\"\\n\")"
   ]
  },
  {
   "cell_type": "code",
   "execution_count": null,
   "metadata": {
    "colab": {
     "base_uri": "https://localhost:8080/"
    },
    "id": "FtZa1GJ5aqJ2",
    "outputId": "698ec1f2-e8a3-489b-d83d-5581b6ce9537"
   },
   "outputs": [],
   "source": [
    "# Looking for availability of candidate_word_list in the datasets\n",
    "search=[]\n",
    "number_of_sets=2\n",
    "for _ in range(number_of_sets):\n",
    "\n",
    "  for j in models_French_Med:\n",
    "    for i in j.wv.vocab:\n",
    "      if i in candidate_word_list:\n",
    "        if i not in search:\n",
    "          search.append(i)\n",
    "\n",
    "  for j in models_French_Press:\n",
    "    for i in j.wv.vocab:\n",
    "      if i in candidate_word_list:\n",
    "        if i not in search:\n",
    "          search.append(i)\n",
    "          \n",
    "print(search)\n"
   ]
  },
  {
   "cell_type": "code",
   "execution_count": null,
   "metadata": {},
   "outputs": [],
   "source": []
  }
 ],
 "metadata": {
  "colab": {
   "collapsed_sections": [],
   "name": "Untitled0.ipynb",
   "provenance": []
  },
  "kernelspec": {
   "display_name": "Python 3",
   "language": "python",
   "name": "python3"
  },
  "language_info": {
   "codemirror_mode": {
    "name": "ipython",
    "version": 3
   },
   "file_extension": ".py",
   "mimetype": "text/x-python",
   "name": "python",
   "nbconvert_exporter": "python",
   "pygments_lexer": "ipython3",
   "version": "3.8.5"
  }
 },
 "nbformat": 4,
 "nbformat_minor": 1
}
